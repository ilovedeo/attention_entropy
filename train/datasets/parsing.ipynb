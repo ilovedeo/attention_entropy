{
 "cells": [
  {
   "cell_type": "markdown",
   "metadata": {
    "collapsed": true
   },
   "source": [
    "# A code to parse the Phyaat data."
   ]
  },
  {
   "cell_type": "code",
   "execution_count": 2,
   "metadata": {},
   "outputs": [
    {
     "name": "stdout",
     "output_type": "stream",
     "text": [
      "/Users/coramdeo/workspace/projects/python_projects/attention_entropy/train/datasets\n"
     ]
    }
   ],
   "source": [
    "# Store current directory.\n",
    "\n",
    "import os\n",
    "here = os.getcwd()\n",
    "print(here)"
   ]
  },
  {
   "cell_type": "markdown",
   "metadata": {},
   "source": [
    "## Rename folders."
   ]
  },
  {
   "cell_type": "code",
   "execution_count": 3,
   "metadata": {
    "scrolled": true
   },
   "outputs": [
    {
     "name": "stdout",
     "output_type": "stream",
     "text": [
      "/Users/coramdeo/workspace/projects/python_projects/attention_entropy/train/datasets/data/phyaat_dataset/Signals\n",
      "['S05', 'S02', 'S03', 'S04', '.DS_Store', 'S19', 'S21', 'S17', 'S10', 'S11', 'S16', 'S20', 'S18', 'S01', 'S06', 'S08', 'S09', 'S07', 'S22', 'S25', 'S13', 'S14', 'S15', 'S12', 'S24', 'S23']\n"
     ]
    }
   ],
   "source": [
    "# Create file list.\n",
    "\n",
    "data_path = os.path.join(here + \"/data\" + \"/phyaat_dataset\" + \"/Signals\")\n",
    "print(data_path)\n",
    "file_list = os.listdir(data_path)\n",
    "print(file_list)"
   ]
  },
  {
   "cell_type": "code",
   "execution_count": 4,
   "metadata": {},
   "outputs": [],
   "source": [
    "# data_path: parent directory, file_list: name list of files in parent directory.\n",
    "def rename_file(data_path, file_list):\n",
    "    for dir in file_list:\n",
    "        FilePath = os.path.join(data_path, dir)\n",
    "        # Decide whether FilePath is a directory.\n",
    "        if os.path.isdir(FilePath):\n",
    "            # Original file directory\n",
    "            org_filename = os.path.join(data_path + \"/\" + dir)\n",
    "            # New filoename\n",
    "            dst_filename = os.path.join(data_path + \"/\" + dir[0] + \"{0:02d}\".format(int(dir[1 :])))\n",
    "            os.rename(org_filename, dst_filename)"
   ]
  },
  {
   "cell_type": "code",
   "execution_count": 5,
   "metadata": {},
   "outputs": [],
   "source": [
    "# Rename file.\n",
    "rename_file(data_path, file_list)"
   ]
  },
  {
   "cell_type": "markdown",
   "metadata": {},
   "source": [
    "## Parse the data."
   ]
  },
  {
   "cell_type": "markdown",
   "metadata": {},
   "source": [
    "EEG: [AF3, F7, F3, FC5, T7, P7, O1, O2, P8, T8, FC6, F4, F8, AF4],  \n",
    "PPG,  \n",
    "BPM: Pulse Rate in Beats per minutes,  \n",
    "IBI: Inter Beat Interval,  \n",
    "gsrRAW: Instantaneous GSR Signal,  \n",
    "gsrLPF: Lowpass GSR Signals (Moving averaged of past 100 samples),  \n",
    "Label_N: Noise Levels [-6,-3,0,3,6,1000] dB,  \n",
    "Label_S: Semanticity Label where 0-Semantic, 1-Non-semantic,  \n",
    "Label_T: Task where 0-Listenting, 1-Writing, 2-Resting,  \n",
    "CaseID : CaseID An identyfier code for experimental condition, encoded value of noise level and semanticity"
   ]
  },
  {
   "cell_type": "code",
   "execution_count": null,
   "metadata": {},
   "outputs": [],
   "source": []
  },
  {
   "cell_type": "code",
   "execution_count": 10,
   "metadata": {},
   "outputs": [
    {
     "name": "stdout",
     "output_type": "stream",
     "text": [
      "/Users/coramdeo/workspace/projects/python_projects/attention_entropy/train/datasets/data/phyaat_dataset/Signals/S01\n"
     ]
    }
   ],
   "source": [
    "# Example : we will do this in iterative way using for loop.\n",
    "# Direcytory of S01\n",
    "data_dir = os.path.join(here + \"/data\" + \"/phyaat_dataset\" + \"/Signals\" + \"/S01\")\n",
    "print(data_dir)\n",
    "\n",
    "# Read signal file\n"
   ]
  },
  {
   "cell_type": "code",
   "execution_count": null,
   "metadata": {},
   "outputs": [],
   "source": []
  },
  {
   "cell_type": "code",
   "execution_count": null,
   "metadata": {},
   "outputs": [],
   "source": []
  },
  {
   "cell_type": "code",
   "execution_count": null,
   "metadata": {},
   "outputs": [],
   "source": []
  },
  {
   "cell_type": "code",
   "execution_count": 7,
   "metadata": {},
   "outputs": [
    {
     "name": "stdout",
     "output_type": "stream",
     "text": [
      "\u001B[34mdata\u001B[m\u001B[m          parsing.ipynb\r\n"
     ]
    }
   ],
   "source": [
    "! ls"
   ]
  }
 ],
 "metadata": {
  "kernelspec": {
   "display_name": "Python 3 (ipykernel)",
   "language": "python",
   "name": "python3"
  },
  "language_info": {
   "codemirror_mode": {
    "name": "ipython",
    "version": 3
   },
   "file_extension": ".py",
   "mimetype": "text/x-python",
   "name": "python",
   "nbconvert_exporter": "python",
   "pygments_lexer": "ipython3",
   "version": "3.7.9"
  }
 },
 "nbformat": 4,
 "nbformat_minor": 1
}