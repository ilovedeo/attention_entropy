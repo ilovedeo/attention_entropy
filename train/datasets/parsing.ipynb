{
 "cells": [
  {
   "cell_type": "markdown",
   "metadata": {
    "collapsed": true
   },
   "source": [
    "# A code to parse the Phyaat data."
   ]
  },
  {
   "cell_type": "code",
   "execution_count": 11,
   "metadata": {},
   "outputs": [
    {
     "name": "stdout",
     "output_type": "stream",
     "text": [
      "/Users/coramdeo/workspace/projects/python_projects/attention_entropy/train/datasets\n"
     ]
    }
   ],
   "source": [
    "# Store current directory.\n",
    "\n",
    "import os\n",
    "here = os.getcwd()\n",
    "print(here)"
   ]
  },
  {
   "cell_type": "markdown",
   "metadata": {},
   "source": [
    "## Rename folders."
   ]
  },
  {
   "cell_type": "code",
   "execution_count": 21,
   "metadata": {},
   "outputs": [
    {
     "name": "stdout",
     "output_type": "stream",
     "text": [
      "/Users/coramdeo/workspace/projects/python_projects/attention_entropy/train/datasets/data/phyaat_dataset/Signals\n",
      "['S5', 'S2', 'S3', 'S4', '.DS_Store', 'S19', 'S21', 'S17', 'S10', 'S11', 'S16', 'S20', 'S18', 'S8', 'S1', 'S6', 'S7', 'S9', 'S22', 'S25', 'S13', 'S14', 'S15', 'S12', 'S24', 'S23']\n"
     ]
    }
   ],
   "source": [
    "# First create file list.\n",
    "data_path = os.path.join(here + \"/data\" + \"/phyaat_dataset\" + \"/Signals\")\n",
    "print(data_path)\n",
    "file_list = os.listdir(data_path)\n",
    "print(file_list)"
   ]
  },
  {
   "cell_type": "code",
   "execution_count": 20,
   "metadata": {},
   "outputs": [
    {
     "name": "stdout",
     "output_type": "stream",
     "text": [
      "['S5', 'S2', 'S3', 'S4', '.DS_Store', 'S19', 'S21', 'S17', 'S10', 'S11', 'S16', 'S20', 'S18', 'S8', 'S1', 'S6', 'S7', 'S9', 'S22', 'S25', 'S13', 'S14', 'S15', 'S12', 'S24', 'S23']\n"
     ]
    }
   ],
   "source": []
  },
  {
   "cell_type": "code",
   "execution_count": null,
   "metadata": {},
   "outputs": [],
   "source": [
    "\n",
    "for i, org_nm in enumerate(sorted_ls(path)):\n",
    "    dst_fnm = os.path.join(\n",
    "        path, prefix + '-' + '{0:03d}'.format(i) + postfix + '.png')\n",
    "    os.rename(org_nm, dst_fnm)\n",
    "    print(org_nm + ' => ' + dst_fnm)"
   ]
  }
 ],
 "metadata": {
  "kernelspec": {
   "display_name": "Python 3 (ipykernel)",
   "language": "python",
   "name": "python3"
  },
  "language_info": {
   "codemirror_mode": {
    "name": "ipython",
    "version": 3
   },
   "file_extension": ".py",
   "mimetype": "text/x-python",
   "name": "python",
   "nbconvert_exporter": "python",
   "pygments_lexer": "ipython3",
   "version": "3.7.9"
  }
 },
 "nbformat": 4,
 "nbformat_minor": 1
}